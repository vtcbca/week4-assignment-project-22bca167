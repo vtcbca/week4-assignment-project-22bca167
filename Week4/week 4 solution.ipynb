{
 "cells": [
  {
   "cell_type": "code",
   "execution_count": 1,
   "id": "720610fb",
   "metadata": {},
   "outputs": [],
   "source": [
    "import sqlite3"
   ]
  },
  {
   "cell_type": "code",
   "execution_count": 2,
   "id": "75a41528",
   "metadata": {},
   "outputs": [],
   "source": [
    "from datetime import datetime\n"
   ]
  },
  {
   "cell_type": "code",
   "execution_count": 3,
   "id": "1776db51",
   "metadata": {},
   "outputs": [],
   "source": [
    "conn = sqlite3.connect(\"contact_management.db\")"
   ]
  },
  {
   "cell_type": "code",
   "execution_count": 4,
   "id": "dbb2dad8",
   "metadata": {},
   "outputs": [],
   "source": [
    "cur = conn.cursor()"
   ]
  },
  {
   "cell_type": "code",
   "execution_count": 7,
   "id": "20bb6135",
   "metadata": {},
   "outputs": [
    {
     "data": {
      "text/plain": [
       "<sqlite3.Cursor at 0x26d09676c40>"
      ]
     },
     "execution_count": 7,
     "metadata": {},
     "output_type": "execute_result"
    }
   ],
   "source": [
    "cur.execute(\"\"\"CREATE TABLE IF NOT EXISTS contact (\n",
    "               fname TEXT,\n",
    "               lname TEXT,\n",
    "               contact TEXT,\n",
    "               email TEXT,\n",
    "               city TEXT,\n",
    "               CHECK (email LIKE '%_@_%._%')\n",
    "            )\"\"\")\n"
   ]
  },
  {
   "cell_type": "code",
   "execution_count": 8,
   "id": "ed27e845",
   "metadata": {},
   "outputs": [
    {
     "data": {
      "text/plain": [
       "<sqlite3.Cursor at 0x26d09676c40>"
      ]
     },
     "execution_count": 8,
     "metadata": {},
     "output_type": "execute_result"
    }
   ],
   "source": [
    "cur.execute(\"\"\"CREATE TABLE IF NOT EXISTS log (\n",
    "               operation TEXT,\n",
    "               fname TEXT,\n",
    "               lname TEXT,\n",
    "               old_contact TEXT,\n",
    "               new_contact TEXT,\n",
    "               timestamp DATETIME\n",
    "            )\"\"\")"
   ]
  },
  {
   "cell_type": "code",
   "execution_count": 9,
   "id": "b0f12076",
   "metadata": {},
   "outputs": [],
   "source": [
    "def insert_contact(fname, lname, contact, email, city):\n",
    "    cur.execute(\"INSERT INTO contact VALUES (?, ?, ?, ?, ?)\", (fname, lname, contact, email, city))\n",
    "    conn.commit()\n",
    "    log_operation(\"insert\", fname, lname, old_contact=None, new_contact=contact)"
   ]
  },
  {
   "cell_type": "code",
   "execution_count": 10,
   "id": "144daaeb",
   "metadata": {},
   "outputs": [],
   "source": [
    "def update_contact(fname, lname, new_contact):\n",
    "    cur.execute(\"SELECT contact FROM contact WHERE fname = ? AND lname = ?\", (fname, lname))\n",
    "    old_contact = cur.fetchone()[0]\n",
    "    cur.execute(\"UPDATE contact SET contact = ? WHERE fname = ? AND lname = ?\", (new_contact, fname, lname))\n",
    "    conn.commit()\n",
    "    log_operation(\"update\", fname, lname, old_contact, new_contact)"
   ]
  },
  {
   "cell_type": "code",
   "execution_count": 11,
   "id": "e15abdcf",
   "metadata": {},
   "outputs": [],
   "source": [
    "def delete_contact(fname, lname):\n",
    "    cur.execute(\"SELECT contact FROM contact WHERE fname = ? AND lname = ?\", (fname, lname))\n",
    "    old_contact = cur.fetchone()[0]\n",
    "    cur.execute(\"DELETE FROM contact WHERE fname = ? AND lname = ?\", (fname, lname))\n",
    "    conn.commit()\n",
    "    log_operation(\"delete\", fname, lname, old_contact, new_contact=None)"
   ]
  },
  {
   "cell_type": "code",
   "execution_count": 12,
   "id": "c72609c0",
   "metadata": {},
   "outputs": [],
   "source": [
    "def search_contact(fname, lname):\n",
    "    cur.execute(\"SELECT * FROM contact WHERE fname = ? AND lname = ?\", (fname, lname))\n",
    "    return cur.fetchall()"
   ]
  },
  {
   "cell_type": "code",
   "execution_count": 13,
   "id": "177aa912",
   "metadata": {},
   "outputs": [],
   "source": [
    "def log_operation(operation, fname, lname, old_contact, new_contact):\n",
    "    timestamp = datetime.now()\n",
    "    cur.execute(\"INSERT INTO log VALUES (?, ?, ?, ?, ?, ?)\",\n",
    "                (operation, fname, lname, old_contact, new_contact, timestamp))\n",
    "    conn.commit()"
   ]
  },
  {
   "cell_type": "code",
   "execution_count": 14,
   "id": "4dc55790",
   "metadata": {},
   "outputs": [
    {
     "name": "stdout",
     "output_type": "stream",
     "text": [
      "[]\n"
     ]
    }
   ],
   "source": [
    "insert_contact(\"John\", \"Doe\", \"1234567890\", \"john@example.com\", \"New York\")\n",
    "update_contact(\"John\", \"Doe\", \"9876543210\")\n",
    "delete_contact(\"John\", \"Doe\")\n",
    "print(search_contact(\"John\", \"Doe\"))\n"
   ]
  },
  {
   "cell_type": "code",
   "execution_count": 15,
   "id": "efd369c8",
   "metadata": {},
   "outputs": [],
   "source": [
    "conn.close()"
   ]
  }
 ],
 "metadata": {
  "kernelspec": {
   "display_name": "Python 3 (ipykernel)",
   "language": "python",
   "name": "python3"
  },
  "language_info": {
   "codemirror_mode": {
    "name": "ipython",
    "version": 3
   },
   "file_extension": ".py",
   "mimetype": "text/x-python",
   "name": "python",
   "nbconvert_exporter": "python",
   "pygments_lexer": "ipython3",
   "version": "3.11.4"
  }
 },
 "nbformat": 4,
 "nbformat_minor": 5
}
